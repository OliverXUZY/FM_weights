{
 "cells": [
  {
   "cell_type": "code",
   "execution_count": 2,
   "metadata": {},
   "outputs": [
    {
     "name": "stderr",
     "output_type": "stream",
     "text": [
      "/Users/zyxu/opt/anaconda3/envs/py39/lib/python3.9/site-packages/tqdm/auto.py:21: TqdmWarning: IProgress not found. Please update jupyter and ipywidgets. See https://ipywidgets.readthedocs.io/en/stable/user_install.html\n",
      "  from .autonotebook import tqdm as notebook_tqdm\n",
      "Downloading (…)lve/main/config.json: 100%|██████████| 665/665 [00:00<00:00, 71.8kB/s]\n",
      "Downloading pytorch_model.bin: 100%|██████████| 548M/548M [00:14<00:00, 37.3MB/s] \n",
      "Downloading (…)neration_config.json: 100%|██████████| 124/124 [00:00<00:00, 18.4kB/s]\n"
     ]
    }
   ],
   "source": [
    "import seaborn as sns\n",
    "import numpy as np\n",
    "import torch\n",
    "import matplotlib.pyplot as plt\n",
    "import os\n",
    "os.chdir(\"/Users/zyxu/Documents/py/FM_weights\")\n",
    "from src.model import GPT\n",
    "\n",
    "torch.manual_seed(1234)\n",
    "model = GPT.from_pretrained(\"gpt2\")\n",
    "L = model.config.n_layer\n",
    "H = model.config.n_head\n",
    "C = model.config.n_embd\n",
    "\n",
    "sigma_multiplier = np.sqrt(2 * np.log(C**2))  # denoising parameter\n",
    "top_num = 60  # how many top indices to show\n",
    "\n",
    "\n",
    "def my_round(a, fac=1e3):\n",
    "    return np.round(a * fac) / fac"
   ]
  },
  {
   "cell_type": "code",
   "execution_count": 4,
   "metadata": {},
   "outputs": [
    {
     "name": "stdout",
     "output_type": "stream",
     "text": [
      "12 12 768\n"
     ]
    }
   ],
   "source": [
    "L = model.config.n_layer\n",
    "H = model.config.n_head\n",
    "C = model.config.n_embd\n",
    "print(L,H,C)"
   ]
  },
  {
   "cell_type": "code",
   "execution_count": 3,
   "metadata": {},
   "outputs": [
    {
     "data": {
      "text/plain": [
       "Block(\n",
       "  (ln_1): LayerNorm()\n",
       "  (attn): CausalSelfAttention(\n",
       "    (c_attn): Linear(in_features=768, out_features=2304, bias=True)\n",
       "    (c_proj): Linear(in_features=768, out_features=768, bias=True)\n",
       "    (attn_dropout): Dropout(p=0.0, inplace=False)\n",
       "    (resid_dropout): Dropout(p=0.0, inplace=False)\n",
       "  )\n",
       "  (ln_2): LayerNorm()\n",
       "  (mlp): MLP(\n",
       "    (c_fc): Linear(in_features=768, out_features=3072, bias=True)\n",
       "    (gelu): GELU(approximate='none')\n",
       "    (c_proj): Linear(in_features=3072, out_features=768, bias=True)\n",
       "    (dropout): Dropout(p=0.0, inplace=False)\n",
       "  )\n",
       ")"
      ]
     },
     "execution_count": 3,
     "metadata": {},
     "output_type": "execute_result"
    }
   ],
   "source": [
    "block = model.transformer.h[0]\n",
    "block"
   ]
  },
  {
   "cell_type": "code",
   "execution_count": 6,
   "metadata": {},
   "outputs": [
    {
     "name": "stdout",
     "output_type": "stream",
     "text": [
      "torch.Size([768, 768]) torch.Size([768, 768])\n"
     ]
    }
   ],
   "source": [
    "W_q, W_k, _ = block.attn.c_attn.weight.split(C, dim=0)\n",
    "print(W_q.shape, W_k.shape)"
   ]
  },
  {
   "cell_type": "code",
   "execution_count": 7,
   "metadata": {},
   "outputs": [],
   "source": [
    "W_q = W_q.T.view(C, H, C // H)\n",
    "W_k = W_k.T.view(C, H, C // H)"
   ]
  },
  {
   "cell_type": "code",
   "execution_count": 8,
   "metadata": {},
   "outputs": [
    {
     "name": "stdout",
     "output_type": "stream",
     "text": [
      "torch.Size([768, 12, 64]) torch.Size([768, 12, 64])\n"
     ]
    }
   ],
   "source": [
    "print(W_q.shape, W_k.shape)"
   ]
  },
  {
   "cell_type": "code",
   "execution_count": null,
   "metadata": {},
   "outputs": [],
   "source": []
  }
 ],
 "metadata": {
  "kernelspec": {
   "display_name": "py39",
   "language": "python",
   "name": "python3"
  },
  "language_info": {
   "codemirror_mode": {
    "name": "ipython",
    "version": 3
   },
   "file_extension": ".py",
   "mimetype": "text/x-python",
   "name": "python",
   "nbconvert_exporter": "python",
   "pygments_lexer": "ipython3",
   "version": "3.9.16"
  }
 },
 "nbformat": 4,
 "nbformat_minor": 2
}
