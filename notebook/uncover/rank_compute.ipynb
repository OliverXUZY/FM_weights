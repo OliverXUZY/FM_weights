{
 "cells": [
  {
   "cell_type": "code",
   "execution_count": 1,
   "metadata": {},
   "outputs": [],
   "source": [
    "import torch\n",
    "import matplotlib.pyplot as plt\n",
    "import numpy as np\n",
    "\n",
    "\n",
    "import pandas as pd\n",
    "import os\n",
    "\n",
    "\n",
    "## change root accordingly\n",
    "root = \"/Users/zyxu/Documents/git/FM_weights/\"\n",
    "os.chdir(root)\n"
   ]
  },
  {
   "cell_type": "markdown",
   "metadata": {},
   "source": [
    "## load"
   ]
  },
  {
   "cell_type": "code",
   "execution_count": 2,
   "metadata": {},
   "outputs": [
    {
     "name": "stdout",
     "output_type": "stream",
     "text": [
      "torch.Size([13, 256, 197, 192])\n"
     ]
    }
   ],
   "source": [
    "loaded_tensor = torch.load(f'{root}/output/4sets_intermediate_outputs.pth')\n",
    "print(loaded_tensor.shape)"
   ]
  },
  {
   "cell_type": "code",
   "execution_count": 3,
   "metadata": {},
   "outputs": [
    {
     "data": {
      "text/plain": [
       "dict_keys(['mu', 'pos', 'ctx', 'resid', 'cvec'])"
      ]
     },
     "execution_count": 3,
     "metadata": {},
     "output_type": "execute_result"
    }
   ],
   "source": [
    "from utils import intermdiates_to_pos_ctx\n",
    "res = intermdiates_to_pos_ctx(loaded_tensor)\n",
    "res.keys()"
   ]
  },
  {
   "cell_type": "code",
   "execution_count": 4,
   "metadata": {},
   "outputs": [
    {
     "name": "stderr",
     "output_type": "stream",
     "text": [
      "  0%|          | 0/13 [00:00<?, ?it/s]"
     ]
    },
    {
     "name": "stderr",
     "output_type": "stream",
     "text": [
      "100%|██████████| 13/13 [00:06<00:00,  2.13it/s]\n"
     ]
    }
   ],
   "source": [
    "from utils.metrics import ranks_and_explained_ratios_and_relative_norm_customize\n",
    "ranks = ranks_and_explained_ratios_and_relative_norm_customize(pos = res['pos'].detach().numpy(), \n",
    "                                                     cvec = res['cvec'].detach().numpy(), \n",
    "                                                     global_mean=res['mu'].detach().numpy())"
   ]
  },
  {
   "cell_type": "code",
   "execution_count": 5,
   "metadata": {},
   "outputs": [
    {
     "data": {
      "text/plain": [
       "array([[14.        ,  3.44917512,  0.76445735,  0.16887912],\n",
       "       [14.        ,  1.49376023,  0.80917788,  0.10176866],\n",
       "       [14.        ,  1.89285529,  0.80738151,  0.12752947],\n",
       "       [13.        ,  1.84873402,  0.74693155,  0.1687277 ],\n",
       "       [13.        ,  1.83759403,  0.73348439,  0.16310062],\n",
       "       [13.        ,  1.59506845,  0.73199558,  0.22412549],\n",
       "       [13.        ,  1.28072989,  0.66547006,  0.22200771],\n",
       "       [12.        ,  1.25997865,  0.64490271,  0.23360117],\n",
       "       [11.        ,  1.17720079,  0.63993579,  0.01489426],\n",
       "       [11.        ,  1.09722769,  0.64504868,  0.01530572],\n",
       "       [10.        ,  1.08379173,  0.62485129,  0.01535168],\n",
       "       [11.        ,  1.07960463,  0.63943148,  0.01536206],\n",
       "       [11.        ,  1.07853472,  0.64186132,  0.01559069]])"
      ]
     },
     "execution_count": 5,
     "metadata": {},
     "output_type": "execute_result"
    }
   ],
   "source": [
    "ranks"
   ]
  },
  {
   "cell_type": "code",
   "execution_count": null,
   "metadata": {},
   "outputs": [],
   "source": []
  },
  {
   "cell_type": "code",
   "execution_count": 6,
   "metadata": {},
   "outputs": [],
   "source": [
    "index = [\"ScreeNot\", \"stable_rank\", \"explained_ratio\", \"relative_norm\"]\n",
    "d = []\n",
    "columns = [f\"Layer {i}\" for i in range(13)]\n",
    "for id,metric in enumerate([\"ScreeNot\", \"stable_rank\", \"explained_ratio\", \"relative_norm\"]):\n",
    "    c = ranks[:, id]\n",
    "    d.append(c)"
   ]
  },
  {
   "cell_type": "code",
   "execution_count": 7,
   "metadata": {},
   "outputs": [
    {
     "data": {
      "text/html": [
       "<div>\n",
       "<style scoped>\n",
       "    .dataframe tbody tr th:only-of-type {\n",
       "        vertical-align: middle;\n",
       "    }\n",
       "\n",
       "    .dataframe tbody tr th {\n",
       "        vertical-align: top;\n",
       "    }\n",
       "\n",
       "    .dataframe thead th {\n",
       "        text-align: right;\n",
       "    }\n",
       "</style>\n",
       "<table border=\"1\" class=\"dataframe\">\n",
       "  <thead>\n",
       "    <tr style=\"text-align: right;\">\n",
       "      <th></th>\n",
       "      <th>Layer 0</th>\n",
       "      <th>Layer 1</th>\n",
       "      <th>Layer 2</th>\n",
       "      <th>Layer 3</th>\n",
       "      <th>Layer 4</th>\n",
       "      <th>Layer 5</th>\n",
       "      <th>Layer 6</th>\n",
       "      <th>Layer 7</th>\n",
       "      <th>Layer 8</th>\n",
       "      <th>Layer 9</th>\n",
       "      <th>Layer 10</th>\n",
       "      <th>Layer 11</th>\n",
       "      <th>Layer 12</th>\n",
       "    </tr>\n",
       "  </thead>\n",
       "  <tbody>\n",
       "    <tr>\n",
       "      <th>ScreeNot</th>\n",
       "      <td>14.000</td>\n",
       "      <td>14.000</td>\n",
       "      <td>14.000</td>\n",
       "      <td>13.000</td>\n",
       "      <td>13.000</td>\n",
       "      <td>13.000</td>\n",
       "      <td>13.000</td>\n",
       "      <td>12.000</td>\n",
       "      <td>11.000</td>\n",
       "      <td>11.000</td>\n",
       "      <td>10.000</td>\n",
       "      <td>11.000</td>\n",
       "      <td>11.000</td>\n",
       "    </tr>\n",
       "    <tr>\n",
       "      <th>stable_rank</th>\n",
       "      <td>3.449</td>\n",
       "      <td>1.494</td>\n",
       "      <td>1.893</td>\n",
       "      <td>1.849</td>\n",
       "      <td>1.838</td>\n",
       "      <td>1.595</td>\n",
       "      <td>1.281</td>\n",
       "      <td>1.260</td>\n",
       "      <td>1.177</td>\n",
       "      <td>1.097</td>\n",
       "      <td>1.084</td>\n",
       "      <td>1.080</td>\n",
       "      <td>1.079</td>\n",
       "    </tr>\n",
       "    <tr>\n",
       "      <th>explained_ratio</th>\n",
       "      <td>0.764</td>\n",
       "      <td>0.809</td>\n",
       "      <td>0.807</td>\n",
       "      <td>0.747</td>\n",
       "      <td>0.733</td>\n",
       "      <td>0.732</td>\n",
       "      <td>0.665</td>\n",
       "      <td>0.645</td>\n",
       "      <td>0.640</td>\n",
       "      <td>0.645</td>\n",
       "      <td>0.625</td>\n",
       "      <td>0.639</td>\n",
       "      <td>0.642</td>\n",
       "    </tr>\n",
       "    <tr>\n",
       "      <th>relative_norm</th>\n",
       "      <td>0.169</td>\n",
       "      <td>0.102</td>\n",
       "      <td>0.128</td>\n",
       "      <td>0.169</td>\n",
       "      <td>0.163</td>\n",
       "      <td>0.224</td>\n",
       "      <td>0.222</td>\n",
       "      <td>0.234</td>\n",
       "      <td>0.015</td>\n",
       "      <td>0.015</td>\n",
       "      <td>0.015</td>\n",
       "      <td>0.015</td>\n",
       "      <td>0.016</td>\n",
       "    </tr>\n",
       "  </tbody>\n",
       "</table>\n",
       "</div>"
      ],
      "text/plain": [
       "                 Layer 0  Layer 1  Layer 2  Layer 3  Layer 4  Layer 5  \\\n",
       "ScreeNot          14.000   14.000   14.000   13.000   13.000   13.000   \n",
       "stable_rank        3.449    1.494    1.893    1.849    1.838    1.595   \n",
       "explained_ratio    0.764    0.809    0.807    0.747    0.733    0.732   \n",
       "relative_norm      0.169    0.102    0.128    0.169    0.163    0.224   \n",
       "\n",
       "                 Layer 6  Layer 7  Layer 8  Layer 9  Layer 10  Layer 11  \\\n",
       "ScreeNot          13.000   12.000   11.000   11.000    10.000    11.000   \n",
       "stable_rank        1.281    1.260    1.177    1.097     1.084     1.080   \n",
       "explained_ratio    0.665    0.645    0.640    0.645     0.625     0.639   \n",
       "relative_norm      0.222    0.234    0.015    0.015     0.015     0.015   \n",
       "\n",
       "                 Layer 12  \n",
       "ScreeNot           11.000  \n",
       "stable_rank         1.079  \n",
       "explained_ratio     0.642  \n",
       "relative_norm       0.016  "
      ]
     },
     "execution_count": 7,
     "metadata": {},
     "output_type": "execute_result"
    }
   ],
   "source": [
    "pd.DataFrame(np.array(d),index = index, columns=columns).round(3)"
   ]
  },
  {
   "cell_type": "code",
   "execution_count": null,
   "metadata": {},
   "outputs": [],
   "source": []
  }
 ],
 "metadata": {
  "kernelspec": {
   "display_name": "py39",
   "language": "python",
   "name": "python3"
  },
  "language_info": {
   "codemirror_mode": {
    "name": "ipython",
    "version": 3
   },
   "file_extension": ".py",
   "mimetype": "text/x-python",
   "name": "python",
   "nbconvert_exporter": "python",
   "pygments_lexer": "ipython3",
   "version": "3.9.16"
  }
 },
 "nbformat": 4,
 "nbformat_minor": 2
}
