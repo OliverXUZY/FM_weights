{
 "cells": [
  {
   "cell_type": "code",
   "execution_count": 1,
   "metadata": {},
   "outputs": [],
   "source": [
    "import torch\n",
    "import matplotlib.pyplot as plt\n",
    "import numpy as np\n",
    "\n",
    "\n",
    "import pandas as pd\n",
    "import os\n",
    "\n",
    "\n",
    "root = \"/Users/zyxu/Documents/py/FM_weights\"\n",
    "os.chdir(root)\n"
   ]
  },
  {
   "cell_type": "markdown",
   "metadata": {},
   "source": [
    "## load"
   ]
  },
  {
   "cell_type": "code",
   "execution_count": 2,
   "metadata": {},
   "outputs": [
    {
     "name": "stdout",
     "output_type": "stream",
     "text": [
      "torch.Size([13, 256, 197, 192])\n"
     ]
    }
   ],
   "source": [
    "loaded_tensor = torch.load(f'{root}/output/4sets_intermediate_outputs.pth')\n",
    "print(loaded_tensor.shape)"
   ]
  },
  {
   "cell_type": "code",
   "execution_count": 3,
   "metadata": {},
   "outputs": [
    {
     "name": "stdout",
     "output_type": "stream",
     "text": [
      "mu.shape torch.Size([13, 192])\n",
      "expanded_mu_pos:  torch.Size([13, 197, 192])\n",
      "expanded_mu_ctx:  torch.Size([13, 256, 192])\n",
      "expanded_pos: torch.Size([13, 256, 197, 192]), expanded_ctx: torch.Size([13, 256, 197, 192]), expanded_mu_whole: torch.Size([13, 256, 197, 192])\n",
      "resid: torch.Size([13, 256, 197, 192])\n",
      "cvec: torch.Size([13, 256, 197, 192])\n"
     ]
    },
    {
     "data": {
      "text/plain": [
       "dict_keys(['mu', 'pos', 'ctx', 'resid', 'cvec'])"
      ]
     },
     "execution_count": 3,
     "metadata": {},
     "output_type": "execute_result"
    }
   ],
   "source": [
    "from utils import intermdiates_to_pos_ctx\n",
    "res = intermdiates_to_pos_ctx(loaded_tensor, normalize=False)\n",
    "res.keys()"
   ]
  },
  {
   "cell_type": "code",
   "execution_count": 4,
   "metadata": {},
   "outputs": [
    {
     "name": "stdout",
     "output_type": "stream",
     "text": [
      "mu torch.Size([13, 192])\n",
      "pos torch.Size([13, 197, 192])\n",
      "ctx torch.Size([13, 256, 192])\n",
      "resid torch.Size([13, 256, 197, 192])\n",
      "cvec torch.Size([13, 256, 197, 192])\n"
     ]
    }
   ],
   "source": [
    "for key, val in res.items():\n",
    "    print(key, val.shape)"
   ]
  },
  {
   "cell_type": "markdown",
   "metadata": {},
   "source": [
    "## look into function"
   ]
  },
  {
   "cell_type": "code",
   "execution_count": 31,
   "metadata": {},
   "outputs": [],
   "source": [
    "pos = res['pos'].detach().numpy()\n",
    "global_mean = res['mu'] .detach().numpy()\n",
    "ctx = res['ctx'].detach().numpy()\n",
    "resid = res['resid'].detach().numpy()\n",
    "cvec = res['cvec'].detach().numpy()\n",
    "L, T, D = pos.shape\n",
    "L, B, T, D = cvec.shape\n",
    "nseq = B"
   ]
  },
  {
   "cell_type": "code",
   "execution_count": 32,
   "metadata": {},
   "outputs": [
    {
     "data": {
      "text/plain": [
       "(256, 197, 192)"
      ]
     },
     "execution_count": 32,
     "metadata": {},
     "output_type": "execute_result"
    }
   ],
   "source": [
    "l = 0\n",
    "p = pos[l]  # [T, C]\n",
    "c = cvec[l] # [B, T, C]\n",
    "g = global_mean[l]\n",
    "\n",
    "p_full = np.stack([p for _ in range(nseq)])\n",
    "p_full.shape"
   ]
  },
  {
   "cell_type": "code",
   "execution_count": 33,
   "metadata": {},
   "outputs": [
    {
     "data": {
      "text/plain": [
       "(256, 197, 192)"
      ]
     },
     "execution_count": 33,
     "metadata": {},
     "output_type": "execute_result"
    }
   ],
   "source": [
    "m = p_full + c + g\n",
    "m.shape"
   ]
  },
  {
   "cell_type": "code",
   "execution_count": 34,
   "metadata": {},
   "outputs": [
    {
     "data": {
      "text/plain": [
       "(192,)"
      ]
     },
     "execution_count": 34,
     "metadata": {},
     "output_type": "execute_result"
    }
   ],
   "source": [
    "g.shape"
   ]
  },
  {
   "cell_type": "code",
   "execution_count": null,
   "metadata": {},
   "outputs": [],
   "source": []
  },
  {
   "cell_type": "code",
   "execution_count": null,
   "metadata": {},
   "outputs": [],
   "source": []
  },
  {
   "cell_type": "markdown",
   "metadata": {},
   "source": [
    "## debug"
   ]
  },
  {
   "cell_type": "code",
   "execution_count": null,
   "metadata": {},
   "outputs": [],
   "source": []
  },
  {
   "cell_type": "markdown",
   "metadata": {},
   "source": [
    "## whole func"
   ]
  },
  {
   "cell_type": "code",
   "execution_count": 5,
   "metadata": {},
   "outputs": [
    {
     "name": "stderr",
     "output_type": "stream",
     "text": [
      "  0%|          | 0/13 [00:00<?, ?it/s]"
     ]
    },
    {
     "name": "stderr",
     "output_type": "stream",
     "text": [
      "100%|██████████| 13/13 [00:05<00:00,  2.32it/s]\n"
     ]
    }
   ],
   "source": [
    "from utils.metrics import ranks_and_explained_ratios_and_relative_norm_customize\n",
    "ranks = ranks_and_explained_ratios_and_relative_norm_customize(pos = res['pos'].detach().numpy(), \n",
    "                                                     cvec = res['cvec'].detach().numpy(), \n",
    "                                                     global_mean=res['mu'].detach().numpy())"
   ]
  },
  {
   "cell_type": "code",
   "execution_count": null,
   "metadata": {},
   "outputs": [],
   "source": []
  },
  {
   "cell_type": "code",
   "execution_count": null,
   "metadata": {},
   "outputs": [],
   "source": []
  },
  {
   "cell_type": "code",
   "execution_count": 6,
   "metadata": {},
   "outputs": [],
   "source": [
    "# pos = res['pos'].detach().numpy()\n",
    "# cvec = res['cvec'].detach().numpy()\n",
    "# global_mean=res['mu'].detach().numpy()\n",
    "# l = 0\n",
    "# B = 256\n",
    "\n",
    "# p = pos[l] # [T, C]\n",
    "# c = cvec[l] # [B, T, C]\n",
    "# g = global_mean[l]\n",
    "# p_full = np.stack([p for _ in range(B)])\n",
    "# p_full.shape\n",
    "\n",
    "# m = p_full + c + g"
   ]
  },
  {
   "cell_type": "code",
   "execution_count": null,
   "metadata": {},
   "outputs": [],
   "source": []
  },
  {
   "cell_type": "code",
   "execution_count": null,
   "metadata": {},
   "outputs": [],
   "source": []
  },
  {
   "cell_type": "code",
   "execution_count": 7,
   "metadata": {},
   "outputs": [
    {
     "data": {
      "text/plain": [
       "array([[14.        ,  5.94665623,  0.74288195,  0.44029891],\n",
       "       [13.        ,  6.45518303,  0.7479775 ,  0.26936308],\n",
       "       [14.        ,  6.71914434,  0.76990777,  0.33433321],\n",
       "       [12.        ,  4.75218105,  0.69340789,  0.35889575],\n",
       "       [13.        ,  4.15983725,  0.68868089,  0.33732805],\n",
       "       [13.        ,  3.88320684,  0.68567467,  0.40138921],\n",
       "       [13.        ,  2.76894569,  0.59528911,  0.32614145],\n",
       "       [13.        ,  1.6177597 ,  0.63269818,  0.60998422],\n",
       "       [11.        ,  1.0009979 ,  0.92308134,  0.9215911 ],\n",
       "       [11.        ,  1.00108099,  0.90798295,  0.91557604],\n",
       "       [11.        ,  1.00107646,  0.89735132,  0.91477895],\n",
       "       [11.        ,  1.00111032,  0.88898629,  0.91686368],\n",
       "       [10.        ,  1.00113273,  0.88381577,  0.93325359]])"
      ]
     },
     "execution_count": 7,
     "metadata": {},
     "output_type": "execute_result"
    }
   ],
   "source": [
    "ranks"
   ]
  },
  {
   "cell_type": "code",
   "execution_count": null,
   "metadata": {},
   "outputs": [],
   "source": []
  },
  {
   "cell_type": "markdown",
   "metadata": {},
   "source": [
    "Table 1: ScreeNot"
   ]
  },
  {
   "cell_type": "code",
   "execution_count": 8,
   "metadata": {},
   "outputs": [],
   "source": [
    "index = [\"ScreeNot\", \"stable_rank\", \"explained_ratio\", \"relative_norm\"]\n",
    "d = []\n",
    "columns = [f\"Layer {i}\" for i in range(13)]\n",
    "for id,metric in enumerate([\"ScreeNot\", \"stable_rank\", \"explained_ratio\", \"relative_norm\"]):\n",
    "    c = ranks[:, id]\n",
    "    d.append(c)"
   ]
  },
  {
   "cell_type": "code",
   "execution_count": 9,
   "metadata": {},
   "outputs": [
    {
     "data": {
      "text/html": [
       "<div>\n",
       "<style scoped>\n",
       "    .dataframe tbody tr th:only-of-type {\n",
       "        vertical-align: middle;\n",
       "    }\n",
       "\n",
       "    .dataframe tbody tr th {\n",
       "        vertical-align: top;\n",
       "    }\n",
       "\n",
       "    .dataframe thead th {\n",
       "        text-align: right;\n",
       "    }\n",
       "</style>\n",
       "<table border=\"1\" class=\"dataframe\">\n",
       "  <thead>\n",
       "    <tr style=\"text-align: right;\">\n",
       "      <th></th>\n",
       "      <th>Layer 0</th>\n",
       "      <th>Layer 1</th>\n",
       "      <th>Layer 2</th>\n",
       "      <th>Layer 3</th>\n",
       "      <th>Layer 4</th>\n",
       "      <th>Layer 5</th>\n",
       "      <th>Layer 6</th>\n",
       "      <th>Layer 7</th>\n",
       "      <th>Layer 8</th>\n",
       "      <th>Layer 9</th>\n",
       "      <th>Layer 10</th>\n",
       "      <th>Layer 11</th>\n",
       "      <th>Layer 12</th>\n",
       "    </tr>\n",
       "  </thead>\n",
       "  <tbody>\n",
       "    <tr>\n",
       "      <th>ScreeNot</th>\n",
       "      <td>14.000</td>\n",
       "      <td>13.000</td>\n",
       "      <td>14.000</td>\n",
       "      <td>12.000</td>\n",
       "      <td>13.000</td>\n",
       "      <td>13.000</td>\n",
       "      <td>13.000</td>\n",
       "      <td>13.000</td>\n",
       "      <td>11.000</td>\n",
       "      <td>11.000</td>\n",
       "      <td>11.000</td>\n",
       "      <td>11.000</td>\n",
       "      <td>10.000</td>\n",
       "    </tr>\n",
       "    <tr>\n",
       "      <th>stable_rank</th>\n",
       "      <td>5.947</td>\n",
       "      <td>6.455</td>\n",
       "      <td>6.719</td>\n",
       "      <td>4.752</td>\n",
       "      <td>4.160</td>\n",
       "      <td>3.883</td>\n",
       "      <td>2.769</td>\n",
       "      <td>1.618</td>\n",
       "      <td>1.001</td>\n",
       "      <td>1.001</td>\n",
       "      <td>1.001</td>\n",
       "      <td>1.001</td>\n",
       "      <td>1.001</td>\n",
       "    </tr>\n",
       "    <tr>\n",
       "      <th>explained_ratio</th>\n",
       "      <td>0.743</td>\n",
       "      <td>0.748</td>\n",
       "      <td>0.770</td>\n",
       "      <td>0.693</td>\n",
       "      <td>0.689</td>\n",
       "      <td>0.686</td>\n",
       "      <td>0.595</td>\n",
       "      <td>0.633</td>\n",
       "      <td>0.923</td>\n",
       "      <td>0.908</td>\n",
       "      <td>0.897</td>\n",
       "      <td>0.889</td>\n",
       "      <td>0.884</td>\n",
       "    </tr>\n",
       "    <tr>\n",
       "      <th>relative_norm</th>\n",
       "      <td>0.440</td>\n",
       "      <td>0.269</td>\n",
       "      <td>0.334</td>\n",
       "      <td>0.359</td>\n",
       "      <td>0.337</td>\n",
       "      <td>0.401</td>\n",
       "      <td>0.326</td>\n",
       "      <td>0.610</td>\n",
       "      <td>0.922</td>\n",
       "      <td>0.916</td>\n",
       "      <td>0.915</td>\n",
       "      <td>0.917</td>\n",
       "      <td>0.933</td>\n",
       "    </tr>\n",
       "  </tbody>\n",
       "</table>\n",
       "</div>"
      ],
      "text/plain": [
       "                 Layer 0  Layer 1  Layer 2  Layer 3  Layer 4  Layer 5  \\\n",
       "ScreeNot          14.000   13.000   14.000   12.000   13.000   13.000   \n",
       "stable_rank        5.947    6.455    6.719    4.752    4.160    3.883   \n",
       "explained_ratio    0.743    0.748    0.770    0.693    0.689    0.686   \n",
       "relative_norm      0.440    0.269    0.334    0.359    0.337    0.401   \n",
       "\n",
       "                 Layer 6  Layer 7  Layer 8  Layer 9  Layer 10  Layer 11  \\\n",
       "ScreeNot          13.000   13.000   11.000   11.000    11.000    11.000   \n",
       "stable_rank        2.769    1.618    1.001    1.001     1.001     1.001   \n",
       "explained_ratio    0.595    0.633    0.923    0.908     0.897     0.889   \n",
       "relative_norm      0.326    0.610    0.922    0.916     0.915     0.917   \n",
       "\n",
       "                 Layer 12  \n",
       "ScreeNot           10.000  \n",
       "stable_rank         1.001  \n",
       "explained_ratio     0.884  \n",
       "relative_norm       0.933  "
      ]
     },
     "execution_count": 9,
     "metadata": {},
     "output_type": "execute_result"
    }
   ],
   "source": [
    "pd.DataFrame(np.array(d),index = index, columns=columns).round(3)"
   ]
  },
  {
   "cell_type": "code",
   "execution_count": null,
   "metadata": {},
   "outputs": [],
   "source": []
  }
 ],
 "metadata": {
  "kernelspec": {
   "display_name": "py39",
   "language": "python",
   "name": "python3"
  },
  "language_info": {
   "codemirror_mode": {
    "name": "ipython",
    "version": 3
   },
   "file_extension": ".py",
   "mimetype": "text/x-python",
   "name": "python",
   "nbconvert_exporter": "python",
   "pygments_lexer": "ipython3",
   "version": "3.9.16"
  }
 },
 "nbformat": 4,
 "nbformat_minor": 2
}
