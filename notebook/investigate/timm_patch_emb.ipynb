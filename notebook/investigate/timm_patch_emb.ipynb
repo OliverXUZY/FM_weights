{
 "cells": [
  {
   "cell_type": "code",
   "execution_count": 2,
   "metadata": {},
   "outputs": [
    {
     "name": "stderr",
     "output_type": "stream",
     "text": [
      "/Users/zyxu/opt/anaconda3/envs/py39/lib/python3.9/site-packages/tqdm/auto.py:21: TqdmWarning: IProgress not found. Please update jupyter and ipywidgets. See https://ipywidgets.readthedocs.io/en/stable/user_install.html\n",
      "  from .autonotebook import tqdm as notebook_tqdm\n"
     ]
    }
   ],
   "source": [
    "import torch\n",
    "import torchvision\n",
    "import timm\n",
    "from pprint import pprint\n",
    "import matplotlib.pyplot as plt\n",
    "import numpy as np\n",
    "import torch.nn.functional as F\n",
    "\n",
    "model_names = timm.list_models('*vit*tiny*')\n",
    "# pprint(model_names)"
   ]
  },
  {
   "cell_type": "code",
   "execution_count": 3,
   "metadata": {},
   "outputs": [
    {
     "data": {
      "text/plain": [
       "Sequential(\n",
       "  (0): Block(\n",
       "    (norm1): LayerNorm((192,), eps=1e-06, elementwise_affine=True)\n",
       "    (attn): Attention(\n",
       "      (qkv): Linear(in_features=192, out_features=576, bias=True)\n",
       "      (attn_drop): Dropout(p=0.0, inplace=False)\n",
       "      (proj): Linear(in_features=192, out_features=192, bias=True)\n",
       "      (proj_drop): Dropout(p=0.0, inplace=False)\n",
       "    )\n",
       "    (ls1): Identity()\n",
       "    (drop_path1): Identity()\n",
       "    (norm2): LayerNorm((192,), eps=1e-06, elementwise_affine=True)\n",
       "    (mlp): Mlp(\n",
       "      (fc1): Linear(in_features=192, out_features=768, bias=True)\n",
       "      (act): GELU(approximate='none')\n",
       "      (drop1): Dropout(p=0.0, inplace=False)\n",
       "      (fc2): Linear(in_features=768, out_features=192, bias=True)\n",
       "      (drop2): Dropout(p=0.0, inplace=False)\n",
       "    )\n",
       "    (ls2): Identity()\n",
       "    (drop_path2): Identity()\n",
       "  )\n",
       "  (1): Block(\n",
       "    (norm1): LayerNorm((192,), eps=1e-06, elementwise_affine=True)\n",
       "    (attn): Attention(\n",
       "      (qkv): Linear(in_features=192, out_features=576, bias=True)\n",
       "      (attn_drop): Dropout(p=0.0, inplace=False)\n",
       "      (proj): Linear(in_features=192, out_features=192, bias=True)\n",
       "      (proj_drop): Dropout(p=0.0, inplace=False)\n",
       "    )\n",
       "    (ls1): Identity()\n",
       "    (drop_path1): Identity()\n",
       "    (norm2): LayerNorm((192,), eps=1e-06, elementwise_affine=True)\n",
       "    (mlp): Mlp(\n",
       "      (fc1): Linear(in_features=192, out_features=768, bias=True)\n",
       "      (act): GELU(approximate='none')\n",
       "      (drop1): Dropout(p=0.0, inplace=False)\n",
       "      (fc2): Linear(in_features=768, out_features=192, bias=True)\n",
       "      (drop2): Dropout(p=0.0, inplace=False)\n",
       "    )\n",
       "    (ls2): Identity()\n",
       "    (drop_path2): Identity()\n",
       "  )\n",
       "  (2): Block(\n",
       "    (norm1): LayerNorm((192,), eps=1e-06, elementwise_affine=True)\n",
       "    (attn): Attention(\n",
       "      (qkv): Linear(in_features=192, out_features=576, bias=True)\n",
       "      (attn_drop): Dropout(p=0.0, inplace=False)\n",
       "      (proj): Linear(in_features=192, out_features=192, bias=True)\n",
       "      (proj_drop): Dropout(p=0.0, inplace=False)\n",
       "    )\n",
       "    (ls1): Identity()\n",
       "    (drop_path1): Identity()\n",
       "    (norm2): LayerNorm((192,), eps=1e-06, elementwise_affine=True)\n",
       "    (mlp): Mlp(\n",
       "      (fc1): Linear(in_features=192, out_features=768, bias=True)\n",
       "      (act): GELU(approximate='none')\n",
       "      (drop1): Dropout(p=0.0, inplace=False)\n",
       "      (fc2): Linear(in_features=768, out_features=192, bias=True)\n",
       "      (drop2): Dropout(p=0.0, inplace=False)\n",
       "    )\n",
       "    (ls2): Identity()\n",
       "    (drop_path2): Identity()\n",
       "  )\n",
       "  (3): Block(\n",
       "    (norm1): LayerNorm((192,), eps=1e-06, elementwise_affine=True)\n",
       "    (attn): Attention(\n",
       "      (qkv): Linear(in_features=192, out_features=576, bias=True)\n",
       "      (attn_drop): Dropout(p=0.0, inplace=False)\n",
       "      (proj): Linear(in_features=192, out_features=192, bias=True)\n",
       "      (proj_drop): Dropout(p=0.0, inplace=False)\n",
       "    )\n",
       "    (ls1): Identity()\n",
       "    (drop_path1): Identity()\n",
       "    (norm2): LayerNorm((192,), eps=1e-06, elementwise_affine=True)\n",
       "    (mlp): Mlp(\n",
       "      (fc1): Linear(in_features=192, out_features=768, bias=True)\n",
       "      (act): GELU(approximate='none')\n",
       "      (drop1): Dropout(p=0.0, inplace=False)\n",
       "      (fc2): Linear(in_features=768, out_features=192, bias=True)\n",
       "      (drop2): Dropout(p=0.0, inplace=False)\n",
       "    )\n",
       "    (ls2): Identity()\n",
       "    (drop_path2): Identity()\n",
       "  )\n",
       "  (4): Block(\n",
       "    (norm1): LayerNorm((192,), eps=1e-06, elementwise_affine=True)\n",
       "    (attn): Attention(\n",
       "      (qkv): Linear(in_features=192, out_features=576, bias=True)\n",
       "      (attn_drop): Dropout(p=0.0, inplace=False)\n",
       "      (proj): Linear(in_features=192, out_features=192, bias=True)\n",
       "      (proj_drop): Dropout(p=0.0, inplace=False)\n",
       "    )\n",
       "    (ls1): Identity()\n",
       "    (drop_path1): Identity()\n",
       "    (norm2): LayerNorm((192,), eps=1e-06, elementwise_affine=True)\n",
       "    (mlp): Mlp(\n",
       "      (fc1): Linear(in_features=192, out_features=768, bias=True)\n",
       "      (act): GELU(approximate='none')\n",
       "      (drop1): Dropout(p=0.0, inplace=False)\n",
       "      (fc2): Linear(in_features=768, out_features=192, bias=True)\n",
       "      (drop2): Dropout(p=0.0, inplace=False)\n",
       "    )\n",
       "    (ls2): Identity()\n",
       "    (drop_path2): Identity()\n",
       "  )\n",
       "  (5): Block(\n",
       "    (norm1): LayerNorm((192,), eps=1e-06, elementwise_affine=True)\n",
       "    (attn): Attention(\n",
       "      (qkv): Linear(in_features=192, out_features=576, bias=True)\n",
       "      (attn_drop): Dropout(p=0.0, inplace=False)\n",
       "      (proj): Linear(in_features=192, out_features=192, bias=True)\n",
       "      (proj_drop): Dropout(p=0.0, inplace=False)\n",
       "    )\n",
       "    (ls1): Identity()\n",
       "    (drop_path1): Identity()\n",
       "    (norm2): LayerNorm((192,), eps=1e-06, elementwise_affine=True)\n",
       "    (mlp): Mlp(\n",
       "      (fc1): Linear(in_features=192, out_features=768, bias=True)\n",
       "      (act): GELU(approximate='none')\n",
       "      (drop1): Dropout(p=0.0, inplace=False)\n",
       "      (fc2): Linear(in_features=768, out_features=192, bias=True)\n",
       "      (drop2): Dropout(p=0.0, inplace=False)\n",
       "    )\n",
       "    (ls2): Identity()\n",
       "    (drop_path2): Identity()\n",
       "  )\n",
       "  (6): Block(\n",
       "    (norm1): LayerNorm((192,), eps=1e-06, elementwise_affine=True)\n",
       "    (attn): Attention(\n",
       "      (qkv): Linear(in_features=192, out_features=576, bias=True)\n",
       "      (attn_drop): Dropout(p=0.0, inplace=False)\n",
       "      (proj): Linear(in_features=192, out_features=192, bias=True)\n",
       "      (proj_drop): Dropout(p=0.0, inplace=False)\n",
       "    )\n",
       "    (ls1): Identity()\n",
       "    (drop_path1): Identity()\n",
       "    (norm2): LayerNorm((192,), eps=1e-06, elementwise_affine=True)\n",
       "    (mlp): Mlp(\n",
       "      (fc1): Linear(in_features=192, out_features=768, bias=True)\n",
       "      (act): GELU(approximate='none')\n",
       "      (drop1): Dropout(p=0.0, inplace=False)\n",
       "      (fc2): Linear(in_features=768, out_features=192, bias=True)\n",
       "      (drop2): Dropout(p=0.0, inplace=False)\n",
       "    )\n",
       "    (ls2): Identity()\n",
       "    (drop_path2): Identity()\n",
       "  )\n",
       "  (7): Block(\n",
       "    (norm1): LayerNorm((192,), eps=1e-06, elementwise_affine=True)\n",
       "    (attn): Attention(\n",
       "      (qkv): Linear(in_features=192, out_features=576, bias=True)\n",
       "      (attn_drop): Dropout(p=0.0, inplace=False)\n",
       "      (proj): Linear(in_features=192, out_features=192, bias=True)\n",
       "      (proj_drop): Dropout(p=0.0, inplace=False)\n",
       "    )\n",
       "    (ls1): Identity()\n",
       "    (drop_path1): Identity()\n",
       "    (norm2): LayerNorm((192,), eps=1e-06, elementwise_affine=True)\n",
       "    (mlp): Mlp(\n",
       "      (fc1): Linear(in_features=192, out_features=768, bias=True)\n",
       "      (act): GELU(approximate='none')\n",
       "      (drop1): Dropout(p=0.0, inplace=False)\n",
       "      (fc2): Linear(in_features=768, out_features=192, bias=True)\n",
       "      (drop2): Dropout(p=0.0, inplace=False)\n",
       "    )\n",
       "    (ls2): Identity()\n",
       "    (drop_path2): Identity()\n",
       "  )\n",
       "  (8): Block(\n",
       "    (norm1): LayerNorm((192,), eps=1e-06, elementwise_affine=True)\n",
       "    (attn): Attention(\n",
       "      (qkv): Linear(in_features=192, out_features=576, bias=True)\n",
       "      (attn_drop): Dropout(p=0.0, inplace=False)\n",
       "      (proj): Linear(in_features=192, out_features=192, bias=True)\n",
       "      (proj_drop): Dropout(p=0.0, inplace=False)\n",
       "    )\n",
       "    (ls1): Identity()\n",
       "    (drop_path1): Identity()\n",
       "    (norm2): LayerNorm((192,), eps=1e-06, elementwise_affine=True)\n",
       "    (mlp): Mlp(\n",
       "      (fc1): Linear(in_features=192, out_features=768, bias=True)\n",
       "      (act): GELU(approximate='none')\n",
       "      (drop1): Dropout(p=0.0, inplace=False)\n",
       "      (fc2): Linear(in_features=768, out_features=192, bias=True)\n",
       "      (drop2): Dropout(p=0.0, inplace=False)\n",
       "    )\n",
       "    (ls2): Identity()\n",
       "    (drop_path2): Identity()\n",
       "  )\n",
       "  (9): Block(\n",
       "    (norm1): LayerNorm((192,), eps=1e-06, elementwise_affine=True)\n",
       "    (attn): Attention(\n",
       "      (qkv): Linear(in_features=192, out_features=576, bias=True)\n",
       "      (attn_drop): Dropout(p=0.0, inplace=False)\n",
       "      (proj): Linear(in_features=192, out_features=192, bias=True)\n",
       "      (proj_drop): Dropout(p=0.0, inplace=False)\n",
       "    )\n",
       "    (ls1): Identity()\n",
       "    (drop_path1): Identity()\n",
       "    (norm2): LayerNorm((192,), eps=1e-06, elementwise_affine=True)\n",
       "    (mlp): Mlp(\n",
       "      (fc1): Linear(in_features=192, out_features=768, bias=True)\n",
       "      (act): GELU(approximate='none')\n",
       "      (drop1): Dropout(p=0.0, inplace=False)\n",
       "      (fc2): Linear(in_features=768, out_features=192, bias=True)\n",
       "      (drop2): Dropout(p=0.0, inplace=False)\n",
       "    )\n",
       "    (ls2): Identity()\n",
       "    (drop_path2): Identity()\n",
       "  )\n",
       "  (10): Block(\n",
       "    (norm1): LayerNorm((192,), eps=1e-06, elementwise_affine=True)\n",
       "    (attn): Attention(\n",
       "      (qkv): Linear(in_features=192, out_features=576, bias=True)\n",
       "      (attn_drop): Dropout(p=0.0, inplace=False)\n",
       "      (proj): Linear(in_features=192, out_features=192, bias=True)\n",
       "      (proj_drop): Dropout(p=0.0, inplace=False)\n",
       "    )\n",
       "    (ls1): Identity()\n",
       "    (drop_path1): Identity()\n",
       "    (norm2): LayerNorm((192,), eps=1e-06, elementwise_affine=True)\n",
       "    (mlp): Mlp(\n",
       "      (fc1): Linear(in_features=192, out_features=768, bias=True)\n",
       "      (act): GELU(approximate='none')\n",
       "      (drop1): Dropout(p=0.0, inplace=False)\n",
       "      (fc2): Linear(in_features=768, out_features=192, bias=True)\n",
       "      (drop2): Dropout(p=0.0, inplace=False)\n",
       "    )\n",
       "    (ls2): Identity()\n",
       "    (drop_path2): Identity()\n",
       "  )\n",
       "  (11): Block(\n",
       "    (norm1): LayerNorm((192,), eps=1e-06, elementwise_affine=True)\n",
       "    (attn): Attention(\n",
       "      (qkv): Linear(in_features=192, out_features=576, bias=True)\n",
       "      (attn_drop): Dropout(p=0.0, inplace=False)\n",
       "      (proj): Linear(in_features=192, out_features=192, bias=True)\n",
       "      (proj_drop): Dropout(p=0.0, inplace=False)\n",
       "    )\n",
       "    (ls1): Identity()\n",
       "    (drop_path1): Identity()\n",
       "    (norm2): LayerNorm((192,), eps=1e-06, elementwise_affine=True)\n",
       "    (mlp): Mlp(\n",
       "      (fc1): Linear(in_features=192, out_features=768, bias=True)\n",
       "      (act): GELU(approximate='none')\n",
       "      (drop1): Dropout(p=0.0, inplace=False)\n",
       "      (fc2): Linear(in_features=768, out_features=192, bias=True)\n",
       "      (drop2): Dropout(p=0.0, inplace=False)\n",
       "    )\n",
       "    (ls2): Identity()\n",
       "    (drop_path2): Identity()\n",
       "  )\n",
       ")"
      ]
     },
     "execution_count": 3,
     "metadata": {},
     "output_type": "execute_result"
    }
   ],
   "source": [
    "model = timm.create_model(\"vit_tiny_patch16_384\", img_size=224,pretrained=False)\n",
    "state_dict = model.state_dict()\n",
    "num_heads = 3\n",
    "model.blocks\n"
   ]
  },
  {
   "cell_type": "code",
   "execution_count": 8,
   "metadata": {},
   "outputs": [],
   "source": [
    "# state_dict = model.state_dict()\n",
    "# state_dict"
   ]
  },
  {
   "cell_type": "code",
   "execution_count": 4,
   "metadata": {},
   "outputs": [],
   "source": [
    "# Now run your model with some data\n",
    "input_tensor = torch.rand(64, 3, 224, 224)"
   ]
  },
  {
   "cell_type": "code",
   "execution_count": 5,
   "metadata": {},
   "outputs": [
    {
     "data": {
      "text/plain": [
       "torch.Size([64, 192, 14, 14])"
      ]
     },
     "execution_count": 5,
     "metadata": {},
     "output_type": "execute_result"
    }
   ],
   "source": [
    "# Assuming `model` is your loaded ViT model\n",
    "patch_embeddings = model.patch_embed.proj(input_tensor)  # For some input_tensor of shape [batch_size, 3, H, W]\n",
    "patch_embeddings.shape"
   ]
  },
  {
   "cell_type": "code",
   "execution_count": 6,
   "metadata": {},
   "outputs": [
    {
     "data": {
      "text/plain": [
       "torch.Size([1, 197, 192])"
      ]
     },
     "execution_count": 6,
     "metadata": {},
     "output_type": "execute_result"
    }
   ],
   "source": [
    "# Extracting positional embeddings\n",
    "positional_embeddings = model.state_dict()['pos_embed']\n",
    "positional_embeddings.shape"
   ]
  },
  {
   "cell_type": "code",
   "execution_count": null,
   "metadata": {},
   "outputs": [],
   "source": []
  },
  {
   "cell_type": "markdown",
   "metadata": {},
   "source": [
    "### intermediate outputs"
   ]
  },
  {
   "cell_type": "code",
   "execution_count": 9,
   "metadata": {},
   "outputs": [],
   "source": [
    "# List to save outputs\n",
    "intermediate_outputs = []\n",
    "\n",
    "# Hook function\n",
    "def pre_forward_hook(module, input):\n",
    "    intermediate_outputs.append(input[0].clone())\n",
    "\n",
    "# Register the pre-forward hook with attention layers in all blocks\n",
    "for block in model.blocks:\n",
    "    block.attn.register_forward_pre_hook(pre_forward_hook)\n",
    "\n"
   ]
  },
  {
   "cell_type": "code",
   "execution_count": 10,
   "metadata": {},
   "outputs": [
    {
     "name": "stdout",
     "output_type": "stream",
     "text": [
      "Files already downloaded and verified\n"
     ]
    }
   ],
   "source": [
    "import torch\n",
    "import torchvision\n",
    "import torchvision.transforms as transforms\n",
    "statistics = {'mean': [0.4914, 0.4822, 0.4465], \n",
    "            'std':  [0.247, 0.243, 0.261]}\n",
    "img_size = 224\n",
    "root = '/Users/zyxu/Documents/py/datasets'\n",
    "trainset = torchvision.datasets.CIFAR10(root='./data', train=True,\n",
    "                                        download=True, \n",
    "                                        transform=transforms.Compose([\n",
    "                                            transforms.Resize((img_size, img_size)),\n",
    "                                            transforms.ToTensor(),\n",
    "                                            transforms.Normalize(**statistics)\n",
    "                                        ]))\n",
    "# Compute the mean and standard deviation of the dataset\n",
    "trainloader = torch.utils.data.DataLoader(trainset, batch_size=64, shuffle=False)\n",
    "iterator = iter(trainloader)\n",
    "data = next(iterator)"
   ]
  },
  {
   "cell_type": "code",
   "execution_count": 11,
   "metadata": {},
   "outputs": [],
   "source": [
    "intermediate_outputs = []\n",
    "out = model(data[0])"
   ]
  },
  {
   "cell_type": "code",
   "execution_count": 14,
   "metadata": {},
   "outputs": [
    {
     "name": "stdout",
     "output_type": "stream",
     "text": [
      "torch.Size([64, 197, 192])\n",
      "torch.Size([64, 197, 192])\n",
      "torch.Size([64, 197, 192])\n",
      "torch.Size([64, 197, 192])\n",
      "torch.Size([64, 197, 192])\n",
      "torch.Size([64, 197, 192])\n",
      "torch.Size([64, 197, 192])\n",
      "torch.Size([64, 197, 192])\n",
      "torch.Size([64, 197, 192])\n",
      "torch.Size([64, 197, 192])\n",
      "torch.Size([64, 197, 192])\n",
      "torch.Size([64, 197, 192])\n"
     ]
    }
   ],
   "source": [
    "for i, val in enumerate(intermediate_outputs):\n",
    "    print(val.shape)"
   ]
  },
  {
   "cell_type": "code",
   "execution_count": 19,
   "metadata": {},
   "outputs": [
    {
     "data": {
      "text/plain": [
       "torch.Size([192])"
      ]
     },
     "execution_count": 19,
     "metadata": {},
     "output_type": "execute_result"
    }
   ],
   "source": [
    "h = intermediate_outputs[0]\n",
    "mu = h.mean(0).mean(0)\n",
    "mu.shape"
   ]
  },
  {
   "cell_type": "code",
   "execution_count": 20,
   "metadata": {},
   "outputs": [
    {
     "data": {
      "text/plain": [
       "torch.Size([197, 192])"
      ]
     },
     "execution_count": 20,
     "metadata": {},
     "output_type": "execute_result"
    }
   ],
   "source": [
    "h.mean(0).shape"
   ]
  },
  {
   "cell_type": "code",
   "execution_count": 22,
   "metadata": {},
   "outputs": [
    {
     "data": {
      "text/plain": [
       "torch.Size([197, 192])"
      ]
     },
     "execution_count": 22,
     "metadata": {},
     "output_type": "execute_result"
    }
   ],
   "source": [
    "pos = h.mean(0) - mu\n",
    "pos.shape"
   ]
  },
  {
   "cell_type": "code",
   "execution_count": 24,
   "metadata": {},
   "outputs": [
    {
     "data": {
      "text/plain": [
       "torch.Size([64, 192])"
      ]
     },
     "execution_count": 24,
     "metadata": {},
     "output_type": "execute_result"
    }
   ],
   "source": [
    "ctx = h.mean(1) - mu\n",
    "ctx.shape"
   ]
  },
  {
   "cell_type": "code",
   "execution_count": 28,
   "metadata": {},
   "outputs": [
    {
     "data": {
      "image/png": "[encoded data removed]",
      "text/plain": [
       "<Figure size 1000x500 with 1 Axes>"
      ]
     },
     "metadata": {},
     "output_type": "display_data"
    }
   ],
   "source": [
    "# Perform SVD\n",
    "U, S, V = torch.svd(pos)\n",
    "\n",
    "# Let's say we want to retain only the top k singular values for a rank-k approximation\n",
    "k = 10\n",
    "U_k = U[:, :k]\n",
    "S_k = torch.diag(S[:k])\n",
    "V_k = V[:, :k]\n",
    "\n",
    "# Reconstruct the matrix using only the top k singular values\n",
    "pos_approx = U_k @ S_k @ V_k.T\n",
    "\n",
    "# Plot singular values\n",
    "plt.figure(figsize=(10, 5))\n",
    "plt.plot(S.detach().numpy(), 'o-')\n",
    "plt.title('Singular Values')\n",
    "plt.xlabel('Index')\n",
    "plt.ylabel('Value')\n",
    "plt.grid(True)\n",
    "plt.show()"
   ]
  }
 ],
 "metadata": {
  "kernelspec": {
   "display_name": "py39",
   "language": "python",
   "name": "python3"
  },
  "language_info": {
   "codemirror_mode": {
    "name": "ipython",
    "version": 3
   },
   "file_extension": ".py",
   "mimetype": "text/x-python",
   "name": "python",
   "nbconvert_exporter": "python",
   "pygments_lexer": "ipython3",
   "version": "3.9.16"
  },
  "orig_nbformat": 4
 },
 "nbformat": 4,
 "nbformat_minor": 2
}
